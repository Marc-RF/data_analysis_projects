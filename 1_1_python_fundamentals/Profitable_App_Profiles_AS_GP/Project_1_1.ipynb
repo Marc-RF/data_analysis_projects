{
 "cells": [
  {
   "cell_type": "markdown",
   "metadata": {},
   "source": [
    "# Project 1: Profitable Apps Profile\n",
    "\n",
    "## Introduction\n",
    "\n",
    "As a free-apps company, our revenue comes from the in-app adds. Therefore, our goal is to increase as much as possible the numbers of users.\n",
    "\n",
    "In this project we are going to find out which apps are likely to attract more users. This will help our developers to know where to put the efforts."
   ]
  },
  {
   "cell_type": "code",
   "execution_count": 1,
   "metadata": {},
   "outputs": [],
   "source": [
    "def explore_data(dataset, start, end, rows_and_columns=False):\n",
    "    dataset_slice = dataset[start:end]    \n",
    "    for row in dataset_slice:\n",
    "        print(row)\n",
    "        print('\\n') # adds a new (empty) line after each row\n",
    "\n",
    "    if rows_and_columns:\n",
    "        print('Number of rows:', len(dataset))\n",
    "        print('Number of columns:', len(dataset[0]))"
   ]
  },
  {
   "cell_type": "code",
   "execution_count": 2,
   "metadata": {},
   "outputs": [],
   "source": [
    "from csv import reader\n",
    "\n",
    "open_AS_file = open(\"my_datasets/App_Store/AppleStore.csv\", encoding='utf8')\n",
    "open_GP_file = open(\"my_datasets/Google_Play/googleplaystore.csv\", encoding='utf8')\n",
    "\n",
    "read_AS_file = reader(open_AS_file)\n",
    "read_GP_file = reader(open_GP_file)\n",
    "\n",
    "app_AS = list(read_AS_file)\n",
    "app_GP = list(read_GP_file)\n",
    "\n",
    "app_AS_header = app_AS[0]\n",
    "app_GP_header = app_GP[0]\n",
    "\n",
    "app_AS = app_AS[1:]\n",
    "app_GP = app_GP[1:]"
   ]
  },
  {
   "cell_type": "code",
   "execution_count": 3,
   "metadata": {},
   "outputs": [
    {
     "name": "stdout",
     "output_type": "stream",
     "text": [
      "['1', '281656475', 'PAC-MAN Premium', '100788224', 'USD', '3.99', '21292', '26', '4', '4.5', '6.3.5', '4+', 'Games', '38', '5', '10', '1']\n",
      "\n",
      "\n",
      "['2', '281796108', 'Evernote - stay organized', '158578688', 'USD', '0', '161065', '26', '4', '3.5', '8.2.2', '4+', 'Productivity', '37', '5', '23', '1']\n",
      "\n",
      "\n",
      "['3', '281940292', 'WeatherBug - Local Weather, Radar, Maps, Alerts', '100524032', 'USD', '0', '188583', '2822', '3.5', '4.5', '5.0.0', '4+', 'Weather', '37', '5', '3', '1']\n",
      "\n",
      "\n",
      "Number of rows: 7197\n",
      "Number of columns: 17\n"
     ]
    }
   ],
   "source": [
    "explore_data(app_AS,0,3,True)"
   ]
  },
  {
   "cell_type": "code",
   "execution_count": 4,
   "metadata": {},
   "outputs": [
    {
     "name": "stdout",
     "output_type": "stream",
     "text": [
      "['Photo Editor & Candy Camera & Grid & ScrapBook', 'ART_AND_DESIGN', '4.1', '159', '19M', '10,000+', 'Free', '0', 'Everyone', 'Art & Design', 'January 7, 2018', '1.0.0', '4.0.3 and up']\n",
      "\n",
      "\n",
      "['Coloring book moana', 'ART_AND_DESIGN', '3.9', '967', '14M', '500,000+', 'Free', '0', 'Everyone', 'Art & Design;Pretend Play', 'January 15, 2018', '2.0.0', '4.0.3 and up']\n",
      "\n",
      "\n",
      "['U Launcher Lite – FREE Live Cool Themes, Hide Apps', 'ART_AND_DESIGN', '4.7', '87510', '8.7M', '5,000,000+', 'Free', '0', 'Everyone', 'Art & Design', 'August 1, 2018', '1.2.4', '4.0.3 and up']\n",
      "\n",
      "\n",
      "Number of rows: 10841\n",
      "Number of columns: 13\n"
     ]
    }
   ],
   "source": [
    "explore_data(app_GP,0,3,True)"
   ]
  },
  {
   "cell_type": "markdown",
   "metadata": {},
   "source": [
    "## Column Names:\n",
    "\n",
    "Next 2 cells show the column names of each of the 2 DS:"
   ]
  },
  {
   "cell_type": "code",
   "execution_count": 5,
   "metadata": {},
   "outputs": [
    {
     "name": "stdout",
     "output_type": "stream",
     "text": [
      "['', 'id', 'track_name', 'size_bytes', 'currency', 'price', 'rating_count_tot', 'rating_count_ver', 'user_rating', 'user_rating_ver', 'ver', 'cont_rating', 'prime_genre', 'sup_devices.num', 'ipadSc_urls.num', 'lang.num', 'vpp_lic']\n"
     ]
    }
   ],
   "source": [
    "print(app_AS_header)"
   ]
  },
  {
   "cell_type": "code",
   "execution_count": 6,
   "metadata": {},
   "outputs": [
    {
     "name": "stdout",
     "output_type": "stream",
     "text": [
      "['App', 'Category', 'Rating', 'Reviews', 'Size', 'Installs', 'Type', 'Price', 'Content Rating', 'Genres', 'Last Updated', 'Current Ver', 'Android Ver']\n"
     ]
    }
   ],
   "source": [
    "print(app_GP_header)"
   ]
  },
  {
   "cell_type": "markdown",
   "metadata": {},
   "source": [
    "## Interesting columns:\n",
    "\n",
    "For the App Store:\n",
    " - track_name\n",
    " - rating_count_tot\n",
    " - rating_count_ver\n",
    " - price\n",
    " - currency\n",
    " - prime_genre\n",
    "\n",
    " More info: __[documentation](https://www.kaggle.com/ramamet4/app-store-apple-data-set-10k-apps/home)__\n",
    " \n",
    "For the Google Play:\n",
    " - App\n",
    " - Category\n",
    " - Rating\n",
    " - Reviews\n",
    " - Price\n",
    " - Genres"
   ]
  },
  {
   "cell_type": "markdown",
   "metadata": {},
   "source": [
    "## Checking Data in Google Play\n",
    "\n",
    "Below the sample of row 10472, where the \"Category\" field is missing:"
   ]
  },
  {
   "cell_type": "code",
   "execution_count": 7,
   "metadata": {},
   "outputs": [
    {
     "name": "stdout",
     "output_type": "stream",
     "text": [
      "['App', 'Category', 'Rating', 'Reviews', 'Size', 'Installs', 'Type', 'Price', 'Content Rating', 'Genres', 'Last Updated', 'Current Ver', 'Android Ver']\n",
      "Elements in header: 13\n",
      "\n",
      "\n",
      "['Life Made WI-Fi Touchscreen Photo Frame', '1.9', '19', '3.0M', '1,000+', 'Free', '0', 'Everyone', '', 'February 11, 2018', '1.0.19', '4.0 and up']\n",
      "Elements in row 10472: 12\n"
     ]
    }
   ],
   "source": [
    "print(app_GP_header)\n",
    "print(\"Elements in header: \" + str(len(app_GP_header)))\n",
    "print(\"\\n\")\n",
    "print(app_GP[10472])\n",
    "print(\"Elements in row 10472: \" + str(len(app_GP[10472])))"
   ]
  },
  {
   "cell_type": "markdown",
   "metadata": {},
   "source": [
    "More info about the issue: __[discussion post](https://www.kaggle.com/lava18/google-play-store-apps/discussion/66015)__"
   ]
  },
  {
   "cell_type": "markdown",
   "metadata": {},
   "source": [
    "## Deleting Data in Google Play\n",
    "\n",
    "Below the procedure to delete row 10472 (remember to only run the instruction once):"
   ]
  },
  {
   "cell_type": "code",
   "execution_count": 8,
   "metadata": {},
   "outputs": [],
   "source": [
    "del app_GP[10472]"
   ]
  },
  {
   "cell_type": "markdown",
   "metadata": {},
   "source": [
    "The new row 10472 is:"
   ]
  },
  {
   "cell_type": "code",
   "execution_count": 9,
   "metadata": {},
   "outputs": [
    {
     "name": "stdout",
     "output_type": "stream",
     "text": [
      "['osmino Wi-Fi: free WiFi', 'TOOLS', '4.2', '134203', '4.1M', '10,000,000+', 'Free', '0', 'Everyone', 'Tools', 'August 7, 2018', '6.06.14', '4.4 and up']\n",
      "Elements in row 10472:  13\n"
     ]
    }
   ],
   "source": [
    "print(app_GP[10472])\n",
    "print(\"Elements in row 10472: \", len(app_GP[10472]))"
   ]
  },
  {
   "cell_type": "markdown",
   "metadata": {},
   "source": [
    "## Checking Data in App Store\n",
    "\n",
    "Here the discussion section of the App Store:\n",
    "__[discussion section](https://www.kaggle.com/ramamet4/app-store-apple-data-set-10k-apps/discussion)__\n",
    "\n",
    "No issue found."
   ]
  },
  {
   "cell_type": "markdown",
   "metadata": {},
   "source": [
    "## Removing duplicated rows\n",
    "\n",
    "In the Google Play data set, it is possible to find multiple times an application.\n",
    "\n",
    "The main reason is the capture of information from different moments in time. Therefore, only the newer entry shall be kept.\n",
    "\n",
    "As example:"
   ]
  },
  {
   "cell_type": "code",
   "execution_count": 10,
   "metadata": {},
   "outputs": [
    {
     "name": "stdout",
     "output_type": "stream",
     "text": [
      "['Quick PDF Scanner + OCR FREE', 'BUSINESS', '4.2', '80805', 'Varies with device', '5,000,000+', 'Free', '0', 'Everyone', 'Business', 'February 26, 2018', 'Varies with device', '4.0.3 and up']\n",
      "\n",
      "\n",
      "['Quick PDF Scanner + OCR FREE', 'BUSINESS', '4.2', '80805', 'Varies with device', '5,000,000+', 'Free', '0', 'Everyone', 'Business', 'February 26, 2018', 'Varies with device', '4.0.3 and up']\n",
      "\n",
      "\n",
      "['Quick PDF Scanner + OCR FREE', 'BUSINESS', '4.2', '80804', 'Varies with device', '5,000,000+', 'Free', '0', 'Everyone', 'Business', 'February 26, 2018', 'Varies with device', '4.0.3 and up']\n",
      "\n",
      "\n"
     ]
    }
   ],
   "source": [
    "duplicate_apps = []\n",
    "unique_apps = []\n",
    "\n",
    "for app in app_GP:\n",
    "    name = app[0]\n",
    "    if name in unique_apps:\n",
    "        duplicate_apps.append(name)\n",
    "    else:\n",
    "        unique_apps.append(name)\n",
    "        \n",
    "for app in app_GP:\n",
    "    repeated_name = duplicate_apps[0]\n",
    "    if app[0] == repeated_name:\n",
    "        print(app)\n",
    "        print(\"\\n\")"
   ]
  },
  {
   "cell_type": "code",
   "execution_count": 11,
   "metadata": {},
   "outputs": [
    {
     "name": "stdout",
     "output_type": "stream",
     "text": [
      "Total number of duplicated rows:  1181\n"
     ]
    }
   ],
   "source": [
    "print(\"Total number of duplicated rows: \", len(duplicate_apps))"
   ]
  },
  {
   "cell_type": "markdown",
   "metadata": {},
   "source": [
    "In order to remove rows from duplicated apps, a criterion must be set. A possible option is to remove rows considering the number of reviews: the higher number of reviews, the newer is the data captured.\n",
    "\n",
    "For that purpose, dictionary with names (key) and number of reviews (value) is created:"
   ]
  },
  {
   "cell_type": "code",
   "execution_count": 12,
   "metadata": {},
   "outputs": [],
   "source": [
    "reviews_max = {}\n",
    "\n",
    "for app in app_GP:\n",
    "    name = app[0]\n",
    "    n_reviews = float(app[3])\n",
    "    if name in reviews_max and n_reviews > reviews_max[name]:\n",
    "        reviews_max[name] = n_reviews\n",
    "    elif name not in reviews_max:\n",
    "        reviews_max[name] = n_reviews"
   ]
  },
  {
   "cell_type": "markdown",
   "metadata": {},
   "source": [
    "The length of this dictionary must be 9659: 10840 initial elements - 1181 duplicated."
   ]
  },
  {
   "cell_type": "code",
   "execution_count": 13,
   "metadata": {},
   "outputs": [
    {
     "name": "stdout",
     "output_type": "stream",
     "text": [
      "Initial elements:  10840\n",
      "Duplicated elements:  1181\n",
      "Elements in reviews_max dictionary:  9659\n"
     ]
    }
   ],
   "source": [
    "print(\"Initial elements: \", len(app_GP))\n",
    "print(\"Duplicated elements: \", len(duplicate_apps))\n",
    "print(\"Elements in reviews_max dictionary: \", len(reviews_max))"
   ]
  },
  {
   "cell_type": "markdown",
   "metadata": {},
   "source": [
    "We use now the information from the reviews_max dictionary to create new dataset with cleaned data."
   ]
  },
  {
   "cell_type": "code",
   "execution_count": 14,
   "metadata": {},
   "outputs": [],
   "source": [
    "android_clean = []\n",
    "already_added = []\n",
    "\n",
    "for app in app_GP:\n",
    "    name = app[0]\n",
    "    n_reviews = float(app[3])\n",
    "    if n_reviews == reviews_max[name] and name not in already_added:\n",
    "        android_clean.append(app)\n",
    "        already_added.append(name)"
   ]
  },
  {
   "cell_type": "markdown",
   "metadata": {},
   "source": [
    "Length of android_clean must be 9659:"
   ]
  },
  {
   "cell_type": "code",
   "execution_count": 15,
   "metadata": {},
   "outputs": [
    {
     "name": "stdout",
     "output_type": "stream",
     "text": [
      "9659\n"
     ]
    }
   ],
   "source": [
    "print(len(android_clean))"
   ]
  },
  {
   "cell_type": "markdown",
   "metadata": {},
   "source": [
    "## Removing non-ASCII apps\n",
    "\n",
    "In order to consider exclusively the apps with an ASCII-char name, a filter will be performed.\n",
    "\n",
    "If any of the name characters is not ASCII, the app will be removed from the database."
   ]
  },
  {
   "cell_type": "code",
   "execution_count": 16,
   "metadata": {},
   "outputs": [
    {
     "name": "stdout",
     "output_type": "stream",
     "text": [
      "True\n",
      "False\n",
      "False\n",
      "False\n"
     ]
    }
   ],
   "source": [
    "def name_with_ASCII_char_old (name):\n",
    "    for char in name:\n",
    "        if ord(char) > 127:\n",
    "            return False\n",
    "    return True\n",
    "\n",
    "#Examples:\n",
    "\n",
    "print(name_with_ASCII_char_old('Instagram'))\n",
    "print(name_with_ASCII_char_old('爱奇艺PPS -《欢乐颂2》电视剧热播'))\n",
    "print(name_with_ASCII_char_old('Docs To Go™ Free Office Suite'))\n",
    "print(name_with_ASCII_char_old('Instachat 😜'))"
   ]
  },
  {
   "cell_type": "markdown",
   "metadata": {},
   "source": [
    "As emojis and other non-ASCII chars as \"™\" can be used in English apps, a modification in the filter function will be done. Given a name, the app will be labeled as English if it contains a maximum of 3 non-ASCII characters."
   ]
  },
  {
   "cell_type": "code",
   "execution_count": 17,
   "metadata": {},
   "outputs": [
    {
     "name": "stdout",
     "output_type": "stream",
     "text": [
      "True\n",
      "False\n",
      "True\n",
      "True\n"
     ]
    }
   ],
   "source": [
    "def name_with_ASCII_char (name):\n",
    "    count = 0\n",
    "    for char in name:\n",
    "        if ord(char) > 127:\n",
    "            count += 1\n",
    "        if count == 4:    \n",
    "            return False\n",
    "    return True\n",
    "\n",
    "#Examples:\n",
    "\n",
    "print(name_with_ASCII_char('Instagram'))\n",
    "print(name_with_ASCII_char('爱奇艺PPS -《欢乐颂2》电视剧热播'))\n",
    "print(name_with_ASCII_char('Docs To Go™ Free Office Suite'))\n",
    "print(name_with_ASCII_char('Instachat 😜'))"
   ]
  },
  {
   "cell_type": "markdown",
   "metadata": {},
   "source": [
    "Taking advantage of the function \"name_with_ASCII_char\", App Store and Google Play datasets are going to be modified in order to include exclusively applications with \"English\" names:"
   ]
  },
  {
   "cell_type": "code",
   "execution_count": 18,
   "metadata": {},
   "outputs": [
    {
     "name": "stdout",
     "output_type": "stream",
     "text": [
      "Global Google Play dataset has  9659  entries.\n",
      "English Google Play dataset has  9614  entries.\n",
      "\n",
      "\n",
      "Global App Store dataset has  7197  entries.\n",
      "English App Store dataset has  6183  entries.\n"
     ]
    }
   ],
   "source": [
    "app_GP_English = []\n",
    "app_AS_English = []\n",
    "\n",
    "for app in android_clean:\n",
    "    name = app[0]\n",
    "    if name_with_ASCII_char(name):\n",
    "        app_GP_English.append(app)\n",
    "        \n",
    "for app in app_AS:\n",
    "    name = app[2]\n",
    "    if name_with_ASCII_char(name):\n",
    "        app_AS_English.append(app)\n",
    "        \n",
    "print(\"Global Google Play dataset has \",len(android_clean),\" entries.\")\n",
    "print(\"English Google Play dataset has \",len(app_GP_English),\" entries.\")\n",
    "print(\"\\n\")\n",
    "print(\"Global App Store dataset has \",len(app_AS),\" entries.\")\n",
    "print(\"English App Store dataset has \",len(app_AS_English),\" entries.\")"
   ]
  },
  {
   "cell_type": "markdown",
   "metadata": {},
   "source": [
    "## Filtering free apps\n",
    "\n",
    "After taking out the non-English apps, now it's turn to keep only the free apps.\n",
    "\n",
    "New datasets will be created, from the previous ones, storing only the free apps"
   ]
  },
  {
   "cell_type": "code",
   "execution_count": 19,
   "metadata": {},
   "outputs": [
    {
     "name": "stdout",
     "output_type": "stream",
     "text": [
      "The number of English and free apps in Google Play is  8864 .\n",
      "The number of English and free apps in App Store is  3222 .\n"
     ]
    }
   ],
   "source": [
    "app_GP_free = []\n",
    "app_AS_free = []\n",
    "\n",
    "for app in app_GP_English:\n",
    "    price = app[7]\n",
    "    if price == \"0\":\n",
    "        app_GP_free.append(app)\n",
    "        \n",
    "for app in app_AS_English:\n",
    "    price = app[5]\n",
    "    if price == \"0\":\n",
    "        app_AS_free.append(app)\n",
    "        \n",
    "print(\"The number of English and free apps in Google Play is \", len(app_GP_free), \".\")\n",
    "print(\"The number of English and free apps in App Store is \", len(app_AS_free), \".\")"
   ]
  },
  {
   "cell_type": "markdown",
   "metadata": {},
   "source": [
    "## Chosing the most profitable genre\n",
    "\n",
    "Now it's time to choose the genre of the app that will be developed. As the goal is to create an English and free app, the latest dataset will be used.\n",
    "\n",
    "The market strategy that will be used is:\n",
    "\n",
    "1. Develop a basic app for Google Play\n",
    "2. If the app has good response, develop it further\n",
    "3. If the app is profitable after 6 months, develop the ios version\n",
    "\n",
    "According to this, in order to maximize the profits, both datasets must be considered in order to choose the genre of the app.\n",
    "\n",
    "To define the genre, frequency table of genres will be performed. In case of the GP dataset, the interesting columns will be the 2nd (\"Category\") and the 10th (\"Genres\"). For the AS dataset, the 13th (\"genre_prime\") column will be analyzed.\n",
    "\n",
    "Needed functions are defined below: "
   ]
  },
  {
   "cell_type": "code",
   "execution_count": 20,
   "metadata": {},
   "outputs": [],
   "source": [
    "def freq_table(dataset, index):\n",
    "    freq_tbl = {}\n",
    "    total = 0\n",
    "    for app in dataset:\n",
    "        total += 1\n",
    "        el = app[index]\n",
    "        if el in freq_tbl:\n",
    "            freq_tbl[el] += 1\n",
    "        else:\n",
    "            freq_tbl[el] = 1\n",
    "    for element in freq_tbl:\n",
    "        freq_tbl[element] = freq_tbl[element] * 100 / total\n",
    "    return freq_tbl\n",
    "\n",
    "#def sort_frequency_table_as_tuple(freq_tbl):\n",
    "#    sorted_tuple = []\n",
    "#    for element in freq_tbl:\n",
    "#        tuple_input = (element, freq_tbl[element])\n",
    "#        sorted_tuple.append(tuple_input)\n",
    "#    sorted_tuple = sorted(sorted_tuple, key=lambda tup: tup[1], reverse = True)\n",
    "#    return sorted_tuple\n",
    "\n",
    "def display_table(dataset, index):\n",
    "    table = freq_table(dataset, index)\n",
    "    table_display = []\n",
    "    for key in table:\n",
    "        key_val_as_tuple = (table[key], key)\n",
    "        table_display.append(key_val_as_tuple)\n",
    "\n",
    "    table_sorted = sorted(table_display, reverse = True)\n",
    "    for entry in table_sorted:\n",
    "        print(entry[1], ':', entry[0])\n",
    "    "
   ]
  },
  {
   "cell_type": "markdown",
   "metadata": {},
   "source": [
    "The function \"print_frequency_table\" will be used for this purpose. The input parameters are the dataset, its header row and the chosen column to be analyzed."
   ]
  },
  {
   "cell_type": "code",
   "execution_count": 21,
   "metadata": {},
   "outputs": [
    {
     "name": "stdout",
     "output_type": "stream",
     "text": [
      "FAMILY : 18.907942238267147\n",
      "GAME : 9.724729241877256\n",
      "TOOLS : 8.461191335740072\n",
      "BUSINESS : 4.591606498194946\n",
      "LIFESTYLE : 3.9034296028880866\n",
      "PRODUCTIVITY : 3.892148014440433\n",
      "FINANCE : 3.700361010830325\n",
      "MEDICAL : 3.5311371841155235\n",
      "SPORTS : 3.395758122743682\n",
      "PERSONALIZATION : 3.3167870036101084\n",
      "COMMUNICATION : 3.237815884476534\n",
      "HEALTH_AND_FITNESS : 3.079873646209386\n",
      "PHOTOGRAPHY : 2.9444945848375452\n",
      "NEWS_AND_MAGAZINES : 2.7978339350180503\n",
      "SOCIAL : 2.6624548736462095\n",
      "TRAVEL_AND_LOCAL : 2.33528880866426\n",
      "SHOPPING : 2.2450361010830324\n",
      "BOOKS_AND_REFERENCE : 2.1435018050541514\n",
      "DATING : 1.861462093862816\n",
      "VIDEO_PLAYERS : 1.7937725631768953\n",
      "MAPS_AND_NAVIGATION : 1.3989169675090252\n",
      "FOOD_AND_DRINK : 1.2409747292418774\n",
      "EDUCATION : 1.1620036101083033\n",
      "ENTERTAINMENT : 0.9589350180505415\n",
      "LIBRARIES_AND_DEMO : 0.9363718411552346\n",
      "AUTO_AND_VEHICLES : 0.9250902527075813\n",
      "HOUSE_AND_HOME : 0.8235559566787004\n",
      "WEATHER : 0.8009927797833934\n",
      "EVENTS : 0.7107400722021661\n",
      "PARENTING : 0.6543321299638989\n",
      "ART_AND_DESIGN : 0.6430505415162455\n",
      "COMICS : 0.6204873646209387\n",
      "BEAUTY : 0.5979241877256317\n"
     ]
    }
   ],
   "source": [
    "display_table(app_GP_free, 1)"
   ]
  },
  {
   "cell_type": "code",
   "execution_count": 22,
   "metadata": {},
   "outputs": [
    {
     "name": "stdout",
     "output_type": "stream",
     "text": [
      "Tools : 8.449909747292418\n",
      "Entertainment : 6.069494584837545\n",
      "Education : 5.347472924187725\n",
      "Business : 4.591606498194946\n",
      "Productivity : 3.892148014440433\n",
      "Lifestyle : 3.892148014440433\n",
      "Finance : 3.700361010830325\n",
      "Medical : 3.5311371841155235\n",
      "Sports : 3.463447653429603\n",
      "Personalization : 3.3167870036101084\n",
      "Communication : 3.237815884476534\n",
      "Action : 3.1024368231046933\n",
      "Health & Fitness : 3.079873646209386\n",
      "Photography : 2.9444945848375452\n",
      "News & Magazines : 2.7978339350180503\n",
      "Social : 2.6624548736462095\n",
      "Travel & Local : 2.3240072202166067\n",
      "Shopping : 2.2450361010830324\n",
      "Books & Reference : 2.1435018050541514\n",
      "Simulation : 2.041967509025271\n",
      "Dating : 1.861462093862816\n",
      "Arcade : 1.8501805054151625\n",
      "Video Players & Editors : 1.7712093862815885\n",
      "Casual : 1.759927797833935\n",
      "Maps & Navigation : 1.3989169675090252\n",
      "Food & Drink : 1.2409747292418774\n",
      "Puzzle : 1.128158844765343\n",
      "Racing : 0.9927797833935018\n",
      "Role Playing : 0.9363718411552346\n",
      "Libraries & Demo : 0.9363718411552346\n",
      "Auto & Vehicles : 0.9250902527075813\n",
      "Strategy : 0.9138086642599278\n",
      "House & Home : 0.8235559566787004\n",
      "Weather : 0.8009927797833934\n",
      "Events : 0.7107400722021661\n",
      "Adventure : 0.6768953068592057\n",
      "Comics : 0.6092057761732852\n",
      "Beauty : 0.5979241877256317\n",
      "Art & Design : 0.5979241877256317\n",
      "Parenting : 0.4963898916967509\n",
      "Card : 0.45126353790613716\n",
      "Casino : 0.4287003610108303\n",
      "Trivia : 0.4174187725631769\n",
      "Educational;Education : 0.39485559566787004\n",
      "Board : 0.3835740072202166\n",
      "Educational : 0.3722924187725632\n",
      "Education;Education : 0.33844765342960287\n",
      "Word : 0.2594765342960289\n",
      "Casual;Pretend Play : 0.23691335740072203\n",
      "Music : 0.20306859205776173\n",
      "Racing;Action & Adventure : 0.16922382671480143\n",
      "Puzzle;Brain Games : 0.16922382671480143\n",
      "Entertainment;Music & Video : 0.16922382671480143\n",
      "Casual;Brain Games : 0.13537906137184116\n",
      "Casual;Action & Adventure : 0.13537906137184116\n",
      "Arcade;Action & Adventure : 0.12409747292418773\n",
      "Action;Action & Adventure : 0.10153429602888087\n",
      "Educational;Pretend Play : 0.09025270758122744\n",
      "Simulation;Action & Adventure : 0.078971119133574\n",
      "Parenting;Education : 0.078971119133574\n",
      "Entertainment;Brain Games : 0.078971119133574\n",
      "Board;Brain Games : 0.078971119133574\n",
      "Parenting;Music & Video : 0.06768953068592058\n",
      "Educational;Brain Games : 0.06768953068592058\n",
      "Casual;Creativity : 0.06768953068592058\n",
      "Art & Design;Creativity : 0.06768953068592058\n",
      "Education;Pretend Play : 0.056407942238267145\n",
      "Role Playing;Pretend Play : 0.04512635379061372\n",
      "Education;Creativity : 0.04512635379061372\n",
      "Role Playing;Action & Adventure : 0.03384476534296029\n",
      "Puzzle;Action & Adventure : 0.03384476534296029\n",
      "Entertainment;Creativity : 0.03384476534296029\n",
      "Entertainment;Action & Adventure : 0.03384476534296029\n",
      "Educational;Creativity : 0.03384476534296029\n",
      "Educational;Action & Adventure : 0.03384476534296029\n",
      "Education;Music & Video : 0.03384476534296029\n",
      "Education;Brain Games : 0.03384476534296029\n",
      "Education;Action & Adventure : 0.03384476534296029\n",
      "Adventure;Action & Adventure : 0.03384476534296029\n",
      "Video Players & Editors;Music & Video : 0.02256317689530686\n",
      "Sports;Action & Adventure : 0.02256317689530686\n",
      "Simulation;Pretend Play : 0.02256317689530686\n",
      "Puzzle;Creativity : 0.02256317689530686\n",
      "Music;Music & Video : 0.02256317689530686\n",
      "Entertainment;Pretend Play : 0.02256317689530686\n",
      "Casual;Education : 0.02256317689530686\n",
      "Board;Action & Adventure : 0.02256317689530686\n",
      "Video Players & Editors;Creativity : 0.01128158844765343\n",
      "Trivia;Education : 0.01128158844765343\n",
      "Travel & Local;Action & Adventure : 0.01128158844765343\n",
      "Tools;Education : 0.01128158844765343\n",
      "Strategy;Education : 0.01128158844765343\n",
      "Strategy;Creativity : 0.01128158844765343\n",
      "Strategy;Action & Adventure : 0.01128158844765343\n",
      "Simulation;Education : 0.01128158844765343\n",
      "Role Playing;Brain Games : 0.01128158844765343\n",
      "Racing;Pretend Play : 0.01128158844765343\n",
      "Puzzle;Education : 0.01128158844765343\n",
      "Parenting;Brain Games : 0.01128158844765343\n",
      "Music & Audio;Music & Video : 0.01128158844765343\n",
      "Lifestyle;Pretend Play : 0.01128158844765343\n",
      "Lifestyle;Education : 0.01128158844765343\n",
      "Health & Fitness;Education : 0.01128158844765343\n",
      "Health & Fitness;Action & Adventure : 0.01128158844765343\n",
      "Entertainment;Education : 0.01128158844765343\n",
      "Communication;Creativity : 0.01128158844765343\n",
      "Comics;Creativity : 0.01128158844765343\n",
      "Casual;Music & Video : 0.01128158844765343\n",
      "Card;Action & Adventure : 0.01128158844765343\n",
      "Books & Reference;Education : 0.01128158844765343\n",
      "Art & Design;Pretend Play : 0.01128158844765343\n",
      "Art & Design;Action & Adventure : 0.01128158844765343\n",
      "Arcade;Pretend Play : 0.01128158844765343\n",
      "Adventure;Education : 0.01128158844765343\n"
     ]
    }
   ],
   "source": [
    "display_table(app_GP_free, 9)"
   ]
  },
  {
   "cell_type": "code",
   "execution_count": 23,
   "metadata": {},
   "outputs": [
    {
     "name": "stdout",
     "output_type": "stream",
     "text": [
      "Games : 58.16263190564867\n",
      "Entertainment : 7.883302296710118\n",
      "Photo & Video : 4.9658597144630665\n",
      "Education : 3.6623215394165114\n",
      "Social Networking : 3.2898820608317814\n",
      "Shopping : 2.60707635009311\n",
      "Utilities : 2.5139664804469275\n",
      "Sports : 2.1415270018621975\n",
      "Music : 2.0484171322160147\n",
      "Health & Fitness : 2.017380509000621\n",
      "Productivity : 1.7380509000620732\n",
      "Lifestyle : 1.5828677839851024\n",
      "News : 1.3345747982619491\n",
      "Travel : 1.2414649286157666\n",
      "Finance : 1.1173184357541899\n",
      "Weather : 0.8690254500310366\n",
      "Food & Drink : 0.8069522036002483\n",
      "Reference : 0.5586592178770949\n",
      "Business : 0.5276225946617008\n",
      "Book : 0.4345127250155183\n",
      "Navigation : 0.186219739292365\n",
      "Medical : 0.186219739292365\n",
      "Catalogs : 0.12414649286157665\n"
     ]
    }
   ],
   "source": [
    "display_table(app_AS_free, 12)"
   ]
  },
  {
   "cell_type": "markdown",
   "metadata": {},
   "source": [
    "For Google Play, the \"Genre\" column is too granular. \"Category\" column will be used instead.\n",
    "\n",
    "After having a look, \"FAMILY\" (18,9%) is the biggest Category, followed by \"GAME\" (9,7%). \n",
    "For App Store, \"Games\" (58.1%) is the biggest group without direct competitor.\n",
    "\n",
    "However, this is just the number of apps. Still needs to be analyzed the users per genre."
   ]
  },
  {
   "cell_type": "markdown",
   "metadata": {},
   "source": [
    "## Popular apps in App Store\n",
    "\n",
    "In order to check the average number of installs per genre, different columns will be parsed in the datasets:\n",
    "1. For AS: \"rating_count_tot\" (column 7 - index 6)\n",
    "2. For GP: \"Installs\" (column 6 - index 5)"
   ]
  },
  {
   "cell_type": "code",
   "execution_count": 24,
   "metadata": {},
   "outputs": [],
   "source": [
    "#Function to sort and display dictionaries\n",
    "def display_table_from_dict(table):\n",
    "    table_display = []\n",
    "    for key in table:\n",
    "        key_val_as_tuple = (table[key], key)\n",
    "        table_display.append(key_val_as_tuple)\n",
    "\n",
    "    table_sorted = sorted(table_display, reverse = True)\n",
    "    for entry in table_sorted:\n",
    "        print(entry[1], ':', entry[0])"
   ]
  },
  {
   "cell_type": "code",
   "execution_count": 25,
   "metadata": {},
   "outputs": [
    {
     "name": "stdout",
     "output_type": "stream",
     "text": [
      "Navigation : 86090.33333333333\n",
      "Reference : 74942.11111111111\n",
      "Social Networking : 71548.34905660378\n",
      "Music : 57326.530303030304\n",
      "Weather : 52279.892857142855\n",
      "Book : 39758.5\n",
      "Food & Drink : 33333.92307692308\n",
      "Finance : 31467.944444444445\n",
      "Photo & Video : 28441.54375\n",
      "Travel : 28243.8\n",
      "Shopping : 26919.690476190477\n",
      "Health & Fitness : 23298.015384615384\n",
      "Sports : 23008.898550724636\n",
      "Games : 22788.6696905016\n",
      "News : 21248.023255813954\n",
      "Productivity : 21028.410714285714\n",
      "Utilities : 18684.456790123455\n",
      "Lifestyle : 16485.764705882353\n",
      "Entertainment : 14029.830708661417\n",
      "Business : 7491.117647058823\n",
      "Education : 7003.983050847458\n",
      "Catalogs : 4004.0\n",
      "Medical : 612.0\n"
     ]
    }
   ],
   "source": [
    "AS_reviews_table = freq_table(app_AS_free, 12)\n",
    "for genre in AS_reviews_table:\n",
    "    total = 0\n",
    "    len_genre = 0\n",
    "    for app in app_AS_free:\n",
    "        genre_app = app[12]\n",
    "        if genre == genre_app:\n",
    "            total += float(app[6])\n",
    "            len_genre += 1\n",
    "    AS_reviews_table[genre] = total / len_genre\n",
    "\n",
    "display_table_from_dict(AS_reviews_table)"
   ]
  },
  {
   "cell_type": "markdown",
   "metadata": {},
   "source": [
    "This is the average number of reviews for each of the genres. At first sight, it seems that Navigation could be a genre with success.\n",
    "\n",
    "However, it's also important to see the distribution. In this genre, there are not many apps and 2 of them are Google Maps and Waze, which influences a lot our value.\n",
    "\n",
    "Same with Social Networking and Music.\n",
    "\n",
    "References is also influenced by the Bible and Dictionary.com reviews number. However, digitalize a book might be a good option (ofering tools that paper books don't have, as dictionary)."
   ]
  },
  {
   "cell_type": "markdown",
   "metadata": {},
   "source": [
    "## Popular apps in App Store\n",
    "\n",
    "In order to check the average number of installs per genre, different columns will be parsed in the datasets:\n",
    "1. For AS: \"rating_count_tot\" (column 7 - index 6)\n",
    "2. For GP: \"Installs\" (column 6 - index 5)\n",
    "\n",
    "The problem with \"Installs\" is that it is a discrete field, defining ranges (0, 5+, 10+, 50+...). Even though it's not a big issue, an edition of the data is needed to convert it from string to float."
   ]
  },
  {
   "cell_type": "code",
   "execution_count": 26,
   "metadata": {},
   "outputs": [
    {
     "name": "stdout",
     "output_type": "stream",
     "text": [
      "COMMUNICATION : 38456119.167247385\n",
      "VIDEO_PLAYERS : 24727872.452830188\n",
      "SOCIAL : 23253652.127118643\n",
      "PHOTOGRAPHY : 17840110.40229885\n",
      "PRODUCTIVITY : 16787331.344927534\n",
      "GAME : 15588015.603248259\n",
      "TRAVEL_AND_LOCAL : 13984077.710144928\n",
      "ENTERTAINMENT : 11640705.88235294\n",
      "TOOLS : 10801391.298666667\n",
      "NEWS_AND_MAGAZINES : 9549178.467741935\n",
      "BOOKS_AND_REFERENCE : 8767811.894736841\n",
      "SHOPPING : 7036877.311557789\n",
      "PERSONALIZATION : 5201482.6122448975\n",
      "WEATHER : 5074486.197183099\n",
      "HEALTH_AND_FITNESS : 4188821.9853479853\n",
      "MAPS_AND_NAVIGATION : 4056941.7741935486\n",
      "FAMILY : 3695641.8198090694\n",
      "SPORTS : 3638640.1428571427\n",
      "ART_AND_DESIGN : 1986335.0877192982\n",
      "FOOD_AND_DRINK : 1924897.7363636363\n",
      "EDUCATION : 1833495.145631068\n",
      "BUSINESS : 1712290.1474201474\n",
      "LIFESTYLE : 1437816.2687861272\n",
      "FINANCE : 1387692.475609756\n",
      "HOUSE_AND_HOME : 1331540.5616438356\n",
      "DATING : 854028.8303030303\n",
      "COMICS : 817657.2727272727\n",
      "AUTO_AND_VEHICLES : 647317.8170731707\n",
      "LIBRARIES_AND_DEMO : 638503.734939759\n",
      "PARENTING : 542603.6206896552\n",
      "BEAUTY : 513151.88679245283\n",
      "EVENTS : 253542.22222222222\n",
      "MEDICAL : 120550.61980830671\n"
     ]
    }
   ],
   "source": [
    "GP_reviews_table = freq_table(app_GP_free, 1)\n",
    "for category in GP_reviews_table:\n",
    "    total = 0\n",
    "    len_category = 0\n",
    "    for app in app_GP_free:\n",
    "        category_app = app[1]\n",
    "        if category == category_app:\n",
    "            n_installs = app[5]\n",
    "            n_installs = n_installs.replace(\"+\",\"\")\n",
    "            n_installs = n_installs.replace(\",\",\"\")\n",
    "            total += float(n_installs)\n",
    "            len_category += 1\n",
    "    GP_reviews_table[category] = total / len_category\n",
    "\n",
    "display_table_from_dict(GP_reviews_table)"
   ]
  },
  {
   "cell_type": "markdown",
   "metadata": {},
   "source": [
    "Similar to the AS analysis, there is noise from some highly used apps that influences our analysis (in Communication, Social,...)\n",
    "\n",
    "Again, books and references are in a good position. It's composed by different types of apps: from Bible to eBook readers. Taking a known book and digitalize it, with extra features (as dictionary, quiz, quotes,...) might be a good idea for a free app."
   ]
  }
 ],
 "metadata": {
  "kernelspec": {
   "display_name": "Python 3",
   "language": "python",
   "name": "python3"
  },
  "language_info": {
   "codemirror_mode": {
    "name": "ipython",
    "version": 3
   },
   "file_extension": ".py",
   "mimetype": "text/x-python",
   "name": "python",
   "nbconvert_exporter": "python",
   "pygments_lexer": "ipython3",
   "version": "3.7.1"
  }
 },
 "nbformat": 4,
 "nbformat_minor": 2
}
