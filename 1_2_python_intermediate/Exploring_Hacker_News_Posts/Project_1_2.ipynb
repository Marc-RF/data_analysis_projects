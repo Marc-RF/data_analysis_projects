{
 "cells": [
  {
   "cell_type": "markdown",
   "metadata": {},
   "source": [
    "# Exploring Hacker News Posts\n",
    "\n",
    "In this project, we are going to explore a dataset related to Hacker News Posts. The original dataset can be found in [this Kaggle page](https://www.kaggle.com/hacker-news/hacker-news-posts).\n",
    "\n",
    "However, it has ~300k entries and, for this project, a modification has been done. The new dataset has ~20k entries (after removing posts without comments and sampling the remaining ones) and can be downloaded from the Dataquest page by clicking on \"Download\" button in the embedded Jupyter notebook. \n",
    "\n",
    "## Goals of the project\n",
    "\n",
    "In particular, we are going to have a look at the posts that begin with:\n",
    "- **Ask HN**: They are used to ask question to HN community.\n",
    "- **Show HN**: THey are used to simply show something to HN community.\n",
    "\n",
    "From these 2 groups we are going to:\n",
    "1. Analyse which one of these receive more comments on average.\n",
    "2. Analyse if the time creation affects to the number of comments.\n",
    "\n",
    "## Description of the dataset\n",
    "\n",
    "The dataset includes around 20000 posts information, splitted in different rows.\n",
    "\n",
    "There are 7 columns in each row, with the following information:\n",
    "- **id**: The unique identifier from Hacker News for the post.\n",
    "- **title**: The title of the post.\n",
    "- **url**: The URL that the posts links to, if the post has a URL.\n",
    "- **num_points**: The number of points the post acquired, calculated as the total number of upvotes minus the total number of downvotes.\n",
    "- **num_comments**: The number of comments that were made on the post.\n",
    "- **author**: The username of the person who submitted the post.\n",
    "- **created_at**: The date and time at which the post was submitted."
   ]
  },
  {
   "cell_type": "code",
   "execution_count": 1,
   "metadata": {},
   "outputs": [
    {
     "name": "stdout",
     "output_type": "stream",
     "text": [
      "['id', 'title', 'url', 'num_points', 'num_comments', 'author', 'created_at']\n",
      "['12224879', 'Interactive Dynamic Video', 'http://www.interactivedynamicvideo.com/', '386', '52', 'ne0phyte', '8/4/2016 11:52']\n",
      "['10975351', 'How to Use Open Source and Shut the Fuck Up at the Same Time', 'http://hueniverse.com/2016/01/26/how-to-use-open-source-and-shut-the-fuck-up-at-the-same-time/', '39', '10', 'josep2', '1/26/2016 19:30']\n",
      "['11964716', \"Florida DJs May Face Felony for April Fools' Water Joke\", 'http://www.thewire.com/entertainment/2013/04/florida-djs-april-fools-water-joke/63798/', '2', '1', 'vezycash', '6/23/2016 22:20']\n",
      "['11919867', 'Technology ventures: From Idea to Enterprise', 'https://www.amazon.com/Technology-Ventures-Enterprise-Thomas-Byers/dp/0073523429', '3', '1', 'hswarna', '6/17/2016 0:01']\n"
     ]
    }
   ],
   "source": [
    "from csv import reader\n",
    "\n",
    "open_file = open(\"my_datasets/hacker_news_posts/hacker_news.csv\", encoding='utf8')\n",
    "read_file = reader(open_file)\n",
    "hn = list(read_file)\n",
    "\n",
    "#Printing the first 5 lines of hn variable, including header\n",
    "for row in range(5):\n",
    "    print(hn[row])"
   ]
  },
  {
   "cell_type": "code",
   "execution_count": 2,
   "metadata": {},
   "outputs": [
    {
     "name": "stdout",
     "output_type": "stream",
     "text": [
      "Header:\n",
      "['id', 'title', 'url', 'num_points', 'num_comments', 'author', 'created_at']\n",
      "\n",
      "\n",
      "The hn list has  20100  entries.\n",
      "First 5 hn rows:\n",
      "['12224879', 'Interactive Dynamic Video', 'http://www.interactivedynamicvideo.com/', '386', '52', 'ne0phyte', '8/4/2016 11:52']\n",
      "['10975351', 'How to Use Open Source and Shut the Fuck Up at the Same Time', 'http://hueniverse.com/2016/01/26/how-to-use-open-source-and-shut-the-fuck-up-at-the-same-time/', '39', '10', 'josep2', '1/26/2016 19:30']\n",
      "['11964716', \"Florida DJs May Face Felony for April Fools' Water Joke\", 'http://www.thewire.com/entertainment/2013/04/florida-djs-april-fools-water-joke/63798/', '2', '1', 'vezycash', '6/23/2016 22:20']\n",
      "['11919867', 'Technology ventures: From Idea to Enterprise', 'https://www.amazon.com/Technology-Ventures-Enterprise-Thomas-Byers/dp/0073523429', '3', '1', 'hswarna', '6/17/2016 0:01']\n",
      "['10301696', 'Note by Note: The Making of Steinway L1037 (2007)', 'http://www.nytimes.com/2007/11/07/movies/07stein.html?_r=0', '8', '2', 'walterbell', '9/30/2015 4:12']\n"
     ]
    }
   ],
   "source": [
    "#Splitting the read file in header and content without header\n",
    "header = hn[0]\n",
    "hn = hn[1:]\n",
    "\n",
    "#Checking the result\n",
    "print(\"Header:\")\n",
    "print(header)\n",
    "print(\"\\n\")\n",
    "print(\"The hn list has \",len(hn),\" entries.\")\n",
    "print(\"First 5 hn rows:\")\n",
    "for row in range(5):\n",
    "    print(hn[row])"
   ]
  },
  {
   "cell_type": "code",
   "execution_count": 3,
   "metadata": {},
   "outputs": [
    {
     "name": "stdout",
     "output_type": "stream",
     "text": [
      "ask_posts list has  1744  entries.\n",
      "show_posts list has  1162  entries.\n",
      "other_posts list has  17194  entries.\n"
     ]
    }
   ],
   "source": [
    "#Dividing content in ask posts, show posts and others\n",
    "ask_posts = []\n",
    "show_posts = []\n",
    "other_posts = []\n",
    "\n",
    "for row in hn:\n",
    "    title = row[1]\n",
    "    title = title.lower()\n",
    "    if title.startswith('ask hn'):\n",
    "        ask_posts.append(row)\n",
    "    elif title.startswith('show hn'):\n",
    "        show_posts.append(row)\n",
    "    else:\n",
    "        other_posts.append(row)\n",
    "\n",
    "#Checking length of the final lists\n",
    "print(\"ask_posts list has \",len(ask_posts),\" entries.\")\n",
    "print(\"show_posts list has \",len(show_posts),\" entries.\")\n",
    "print(\"other_posts list has \",len(other_posts),\" entries.\")"
   ]
  },
  {
   "cell_type": "code",
   "execution_count": 4,
   "metadata": {},
   "outputs": [
    {
     "name": "stdout",
     "output_type": "stream",
     "text": [
      "The average number of comments in ask posts is:  14.04 .\n",
      "The average number of comments in show posts is:  10.32 .\n"
     ]
    }
   ],
   "source": [
    "#Comparing the total number of comments between ask_posts and show_posts\n",
    "\n",
    "total_ask_comments = 0\n",
    "for row in ask_posts:\n",
    "    num_comments = int(row[4])\n",
    "    total_ask_comments += num_comments\n",
    "    \n",
    "avg_ask_comments = total_ask_comments / len(ask_posts)\n",
    "print(\"The average number of comments in ask posts is: \",round(avg_ask_comments,2),\".\")\n",
    "\n",
    "total_show_comments = 0\n",
    "for row in show_posts:\n",
    "    num_comments = int(row[4])\n",
    "    total_show_comments += num_comments\n",
    "    \n",
    "avg_show_comments = total_show_comments / len(show_posts)\n",
    "print(\"The average number of comments in show posts is: \",round(avg_show_comments,2),\".\")"
   ]
  },
  {
   "cell_type": "markdown",
   "metadata": {},
   "source": [
    "## First results\n",
    "\n",
    "After comparing the average number of comments in Ask Posts and Show Posts we can see that Ask Posts wins.\n",
    "\n",
    "In particular, **Ask Posts has 14.04** comments on average while **Show Posts receive 10.32** comments.\n",
    "\n",
    "From now on, we will work with the Ask Posts list to analyse the relationship between comments on posts and the time they were created.\n",
    "\n",
    "## Relationship between post creation time and comments\n",
    "\n",
    "Ask Posts list will be analysed:"
   ]
  },
  {
   "cell_type": "code",
   "execution_count": 5,
   "metadata": {},
   "outputs": [],
   "source": [
    "import datetime as dt\n",
    "\n",
    "result_list = []\n",
    "\n",
    "for row in ask_posts:\n",
    "    # We will append in the result_list a list with 2 columns:\n",
    "    # creation date and number of comments (as integer).\n",
    "    new_element = [row[6],int(row[4])]\n",
    "    result_list.append(new_element)\n",
    "    \n",
    "counts_by_hour = {}\n",
    "comments_by_hour = {}\n",
    "\n",
    "#Convert time in datatime object\n",
    "for element in result_list:\n",
    "    element[0] = dt.datetime.strptime(element[0],\"%m/%d/%Y %H:%M\")   "
   ]
  },
  {
   "cell_type": "code",
   "execution_count": 6,
   "metadata": {},
   "outputs": [],
   "source": [
    "#Parse hour and fill dictionaries\n",
    "for element in result_list:\n",
    "    hour = element[0].strftime(\"%H\")\n",
    "    comment = element[1]\n",
    "    if hour in counts_by_hour:\n",
    "        counts_by_hour[hour] += 1\n",
    "        comments_by_hour[hour] += comment\n",
    "    else:\n",
    "        counts_by_hour[hour] = 1\n",
    "        comments_by_hour[hour] = comment"
   ]
  },
  {
   "cell_type": "code",
   "execution_count": 7,
   "metadata": {},
   "outputs": [
    {
     "name": "stdout",
     "output_type": "stream",
     "text": [
      "[['09', 5.5777777777777775], ['13', 14.741176470588234], ['10', 13.440677966101696], ['14', 13.233644859813085], ['16', 16.796296296296298], ['23', 7.985294117647059], ['12', 9.41095890410959], ['17', 11.46], ['15', 38.5948275862069], ['21', 16.009174311926607], ['20', 21.525], ['02', 23.810344827586206], ['18', 13.20183486238532], ['03', 7.796296296296297], ['05', 10.08695652173913], ['19', 10.8], ['01', 11.383333333333333], ['22', 6.746478873239437], ['08', 10.25], ['04', 7.170212765957447], ['00', 8.127272727272727], ['06', 9.022727272727273], ['07', 7.852941176470588], ['11', 11.051724137931034]]\n"
     ]
    }
   ],
   "source": [
    "#Calculating the average comments per hour\n",
    "avg_by_hour = []\n",
    "for hour in counts_by_hour:\n",
    "    num_posts = counts_by_hour[hour]\n",
    "    comments = comments_by_hour[hour]\n",
    "    average = comments/num_posts\n",
    "    avg_by_hour.append([hour,average])\n",
    "print(avg_by_hour)"
   ]
  },
  {
   "cell_type": "code",
   "execution_count": 8,
   "metadata": {},
   "outputs": [
    {
     "name": "stdout",
     "output_type": "stream",
     "text": [
      "[[5.5777777777777775, '09'], [14.741176470588234, '13'], [13.440677966101696, '10'], [13.233644859813085, '14'], [16.796296296296298, '16'], [7.985294117647059, '23'], [9.41095890410959, '12'], [11.46, '17'], [38.5948275862069, '15'], [16.009174311926607, '21'], [21.525, '20'], [23.810344827586206, '02'], [13.20183486238532, '18'], [7.796296296296297, '03'], [10.08695652173913, '05'], [10.8, '19'], [11.383333333333333, '01'], [6.746478873239437, '22'], [10.25, '08'], [7.170212765957447, '04'], [8.127272727272727, '00'], [9.022727272727273, '06'], [7.852941176470588, '07'], [11.051724137931034, '11']]\n"
     ]
    }
   ],
   "source": [
    "#Creating the swaped list of list, to later sort by average number\n",
    "swap_avg_by_hour = []\n",
    "for row in avg_by_hour:\n",
    "    swap_avg_by_hour.append([row[1],row[0]])\n",
    "print(swap_avg_by_hour)\n",
    "\n",
    "#Sorting by average number\n",
    "sorted_swap = sorted(swap_avg_by_hour, reverse=True)"
   ]
  },
  {
   "cell_type": "code",
   "execution_count": 10,
   "metadata": {},
   "outputs": [
    {
     "name": "stdout",
     "output_type": "stream",
     "text": [
      "Top 5 Hours for Ask Posts Comments:\n",
      "15:00: 38.59 average comments per post\n",
      "02:00: 23.81 average comments per post\n",
      "20:00: 21.52 average comments per post\n",
      "16:00: 16.80 average comments per post\n",
      "21:00: 16.01 average comments per post\n"
     ]
    }
   ],
   "source": [
    "#Printing the Top 5 Hours for Ask Posts Comments\n",
    "print(\"Top 5 Hours for Ask Posts Comments:\")\n",
    "for i in range(5):\n",
    "    rank_time = sorted_swap[i][1]\n",
    "    rank_comments = sorted_swap[i][0]\n",
    "    dt_time = dt.datetime.strptime(rank_time,\"%H\")\n",
    "    print(dt_time.strftime(\"%H:%M:\"),'{:.2f}'.format(rank_comments),\"average comments per post\")"
   ]
  },
  {
   "cell_type": "markdown",
   "metadata": {},
   "source": [
    "## Conclusion\n",
    "\n",
    "According to the results, the best hour to get more comments in an Ask Post is 15:00h Eastern Time US.\n",
    "\n",
    "Comparing to our time zone (Central Europe Time), the best time for us to write an Ask Post would be 21:00h.\n",
    "\n",
    "After checking the Top 5, we can see an increase of more than 50% between the first and the second option."
   ]
  }
 ],
 "metadata": {
  "kernelspec": {
   "display_name": "Python 3",
   "language": "python",
   "name": "python3"
  },
  "language_info": {
   "codemirror_mode": {
    "name": "ipython",
    "version": 3
   },
   "file_extension": ".py",
   "mimetype": "text/x-python",
   "name": "python",
   "nbconvert_exporter": "python",
   "pygments_lexer": "ipython3",
   "version": "3.7.3"
  }
 },
 "nbformat": 4,
 "nbformat_minor": 2
}
